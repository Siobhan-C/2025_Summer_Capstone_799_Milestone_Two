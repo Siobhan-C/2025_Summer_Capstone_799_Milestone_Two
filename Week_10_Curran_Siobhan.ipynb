{
 "cells": [
  {
   "cell_type": "markdown",
   "id": "b93dcbfa",
   "metadata": {},
   "source": [
    "## DX799S O1 Data Science Capstone (Summer 1 2025) - Milestone 2 (Weeks 8-11)\n",
    "### Week 10: KMeans Clustering on Lending Club Dataset (Supportive Analysis)\n",
    "\n",
    "##### This notebook shows my Week 10 review of the Lending Club dataset as part of my capstone project on predicting early mortgage delinquency.\n",
    "\n",
    "The dataset used is the clean version of the Lending Club data set, which can be found here: https://www.kaggle.com/datasets/abhishek14398/loan-dataset/data\n"
   ]
  },
  {
   "cell_type": "markdown",
   "id": "20c74ea9",
   "metadata": {},
   "source": [
    "Week 10 Jupyter Notebook – Clustering 1\n",
    "Each week, you will apply the concepts of that week to your Integrated Capstone Project’s dataset. In preparation for Milestone Two, create a Jupyter Notebook (similar to in Module B, semester two) that illustrates these lessons. There are no specific questions to answer in your Jupyter Notebook files in this course; your general goal is to analyze your data using the methods you have learned about in this course and in this program and draw interesting conclusions. \n",
    "\n",
    "For this week, include the following ideas: k-means; specifically elbow method, Silhouette score, feature scaling, and distance metrics.\n"
   ]
  },
  {
   "cell_type": "code",
   "execution_count": 326,
   "id": "cb676575",
   "metadata": {},
   "outputs": [],
   "source": [
    "#imports\n",
    "import pandas as pd\n",
    "import numpy as np\n",
    "import matplotlib.pyplot as plt\n",
    "import seaborn as sns\n",
    "from sklearn.cluster import KMeans\n",
    "from sklearn.preprocessing import StandardScaler\n",
    "from sklearn.metrics import silhouette_score"
   ]
  },
  {
   "cell_type": "code",
   "execution_count": 327,
   "id": "e0f9f3ff",
   "metadata": {},
   "outputs": [
    {
     "name": "stderr",
     "output_type": "stream",
     "text": [
      "/var/folders/2q/3t5h8lp97hz63t941xlydf4w0000gn/T/ipykernel_18428/3012491005.py:2: DtypeWarning: Columns (47) have mixed types. Specify dtype option on import or set low_memory=False.\n",
      "  df = pd.read_csv(\"loan.csv\")\n"
     ]
    }
   ],
   "source": [
    "#load data\n",
    "df = pd.read_csv(\"loan.csv\")  "
   ]
  },
  {
   "cell_type": "code",
   "execution_count": 328,
   "id": "65594b34",
   "metadata": {},
   "outputs": [
    {
     "data": {
      "text/html": [
       "<div>\n",
       "<style scoped>\n",
       "    .dataframe tbody tr th:only-of-type {\n",
       "        vertical-align: middle;\n",
       "    }\n",
       "\n",
       "    .dataframe tbody tr th {\n",
       "        vertical-align: top;\n",
       "    }\n",
       "\n",
       "    .dataframe thead th {\n",
       "        text-align: right;\n",
       "    }\n",
       "</style>\n",
       "<table border=\"1\" class=\"dataframe\">\n",
       "  <thead>\n",
       "    <tr style=\"text-align: right;\">\n",
       "      <th></th>\n",
       "      <th>id</th>\n",
       "      <th>member_id</th>\n",
       "      <th>loan_amnt</th>\n",
       "      <th>funded_amnt</th>\n",
       "      <th>funded_amnt_inv</th>\n",
       "      <th>term</th>\n",
       "      <th>int_rate</th>\n",
       "      <th>installment</th>\n",
       "      <th>grade</th>\n",
       "      <th>sub_grade</th>\n",
       "      <th>...</th>\n",
       "      <th>num_tl_90g_dpd_24m</th>\n",
       "      <th>num_tl_op_past_12m</th>\n",
       "      <th>pct_tl_nvr_dlq</th>\n",
       "      <th>percent_bc_gt_75</th>\n",
       "      <th>pub_rec_bankruptcies</th>\n",
       "      <th>tax_liens</th>\n",
       "      <th>tot_hi_cred_lim</th>\n",
       "      <th>total_bal_ex_mort</th>\n",
       "      <th>total_bc_limit</th>\n",
       "      <th>total_il_high_credit_limit</th>\n",
       "    </tr>\n",
       "  </thead>\n",
       "  <tbody>\n",
       "    <tr>\n",
       "      <th>0</th>\n",
       "      <td>1077501</td>\n",
       "      <td>1296599</td>\n",
       "      <td>5000</td>\n",
       "      <td>5000</td>\n",
       "      <td>4975.0</td>\n",
       "      <td>36 months</td>\n",
       "      <td>10.65%</td>\n",
       "      <td>162.87</td>\n",
       "      <td>B</td>\n",
       "      <td>B2</td>\n",
       "      <td>...</td>\n",
       "      <td>NaN</td>\n",
       "      <td>NaN</td>\n",
       "      <td>NaN</td>\n",
       "      <td>NaN</td>\n",
       "      <td>0.0</td>\n",
       "      <td>0.0</td>\n",
       "      <td>NaN</td>\n",
       "      <td>NaN</td>\n",
       "      <td>NaN</td>\n",
       "      <td>NaN</td>\n",
       "    </tr>\n",
       "    <tr>\n",
       "      <th>1</th>\n",
       "      <td>1077430</td>\n",
       "      <td>1314167</td>\n",
       "      <td>2500</td>\n",
       "      <td>2500</td>\n",
       "      <td>2500.0</td>\n",
       "      <td>60 months</td>\n",
       "      <td>15.27%</td>\n",
       "      <td>59.83</td>\n",
       "      <td>C</td>\n",
       "      <td>C4</td>\n",
       "      <td>...</td>\n",
       "      <td>NaN</td>\n",
       "      <td>NaN</td>\n",
       "      <td>NaN</td>\n",
       "      <td>NaN</td>\n",
       "      <td>0.0</td>\n",
       "      <td>0.0</td>\n",
       "      <td>NaN</td>\n",
       "      <td>NaN</td>\n",
       "      <td>NaN</td>\n",
       "      <td>NaN</td>\n",
       "    </tr>\n",
       "    <tr>\n",
       "      <th>2</th>\n",
       "      <td>1077175</td>\n",
       "      <td>1313524</td>\n",
       "      <td>2400</td>\n",
       "      <td>2400</td>\n",
       "      <td>2400.0</td>\n",
       "      <td>36 months</td>\n",
       "      <td>15.96%</td>\n",
       "      <td>84.33</td>\n",
       "      <td>C</td>\n",
       "      <td>C5</td>\n",
       "      <td>...</td>\n",
       "      <td>NaN</td>\n",
       "      <td>NaN</td>\n",
       "      <td>NaN</td>\n",
       "      <td>NaN</td>\n",
       "      <td>0.0</td>\n",
       "      <td>0.0</td>\n",
       "      <td>NaN</td>\n",
       "      <td>NaN</td>\n",
       "      <td>NaN</td>\n",
       "      <td>NaN</td>\n",
       "    </tr>\n",
       "    <tr>\n",
       "      <th>3</th>\n",
       "      <td>1076863</td>\n",
       "      <td>1277178</td>\n",
       "      <td>10000</td>\n",
       "      <td>10000</td>\n",
       "      <td>10000.0</td>\n",
       "      <td>36 months</td>\n",
       "      <td>13.49%</td>\n",
       "      <td>339.31</td>\n",
       "      <td>C</td>\n",
       "      <td>C1</td>\n",
       "      <td>...</td>\n",
       "      <td>NaN</td>\n",
       "      <td>NaN</td>\n",
       "      <td>NaN</td>\n",
       "      <td>NaN</td>\n",
       "      <td>0.0</td>\n",
       "      <td>0.0</td>\n",
       "      <td>NaN</td>\n",
       "      <td>NaN</td>\n",
       "      <td>NaN</td>\n",
       "      <td>NaN</td>\n",
       "    </tr>\n",
       "    <tr>\n",
       "      <th>4</th>\n",
       "      <td>1075358</td>\n",
       "      <td>1311748</td>\n",
       "      <td>3000</td>\n",
       "      <td>3000</td>\n",
       "      <td>3000.0</td>\n",
       "      <td>60 months</td>\n",
       "      <td>12.69%</td>\n",
       "      <td>67.79</td>\n",
       "      <td>B</td>\n",
       "      <td>B5</td>\n",
       "      <td>...</td>\n",
       "      <td>NaN</td>\n",
       "      <td>NaN</td>\n",
       "      <td>NaN</td>\n",
       "      <td>NaN</td>\n",
       "      <td>0.0</td>\n",
       "      <td>0.0</td>\n",
       "      <td>NaN</td>\n",
       "      <td>NaN</td>\n",
       "      <td>NaN</td>\n",
       "      <td>NaN</td>\n",
       "    </tr>\n",
       "  </tbody>\n",
       "</table>\n",
       "<p>5 rows × 111 columns</p>\n",
       "</div>"
      ],
      "text/plain": [
       "        id  member_id  loan_amnt  funded_amnt  funded_amnt_inv        term  \\\n",
       "0  1077501    1296599       5000         5000           4975.0   36 months   \n",
       "1  1077430    1314167       2500         2500           2500.0   60 months   \n",
       "2  1077175    1313524       2400         2400           2400.0   36 months   \n",
       "3  1076863    1277178      10000        10000          10000.0   36 months   \n",
       "4  1075358    1311748       3000         3000           3000.0   60 months   \n",
       "\n",
       "  int_rate  installment grade sub_grade  ... num_tl_90g_dpd_24m  \\\n",
       "0   10.65%       162.87     B        B2  ...                NaN   \n",
       "1   15.27%        59.83     C        C4  ...                NaN   \n",
       "2   15.96%        84.33     C        C5  ...                NaN   \n",
       "3   13.49%       339.31     C        C1  ...                NaN   \n",
       "4   12.69%        67.79     B        B5  ...                NaN   \n",
       "\n",
       "  num_tl_op_past_12m pct_tl_nvr_dlq  percent_bc_gt_75 pub_rec_bankruptcies  \\\n",
       "0                NaN            NaN               NaN                  0.0   \n",
       "1                NaN            NaN               NaN                  0.0   \n",
       "2                NaN            NaN               NaN                  0.0   \n",
       "3                NaN            NaN               NaN                  0.0   \n",
       "4                NaN            NaN               NaN                  0.0   \n",
       "\n",
       "  tax_liens tot_hi_cred_lim total_bal_ex_mort total_bc_limit  \\\n",
       "0       0.0             NaN               NaN            NaN   \n",
       "1       0.0             NaN               NaN            NaN   \n",
       "2       0.0             NaN               NaN            NaN   \n",
       "3       0.0             NaN               NaN            NaN   \n",
       "4       0.0             NaN               NaN            NaN   \n",
       "\n",
       "  total_il_high_credit_limit  \n",
       "0                        NaN  \n",
       "1                        NaN  \n",
       "2                        NaN  \n",
       "3                        NaN  \n",
       "4                        NaN  \n",
       "\n",
       "[5 rows x 111 columns]"
      ]
     },
     "execution_count": 328,
     "metadata": {},
     "output_type": "execute_result"
    }
   ],
   "source": [
    "### ------ Review/EDA\n",
    "\n",
    "#review data / EDA\n",
    "df.head()"
   ]
  },
  {
   "cell_type": "code",
   "execution_count": 329,
   "id": "0da639ca",
   "metadata": {},
   "outputs": [
    {
     "name": "stdout",
     "output_type": "stream",
     "text": [
      "initial shape (39717, 87)\n",
      "\n",
      "missing values\n",
      "open_rv_24m                       39717\n",
      "mths_since_recent_revol_delinq    39717\n",
      "mths_since_recent_bc_dlq          39717\n",
      "mths_since_recent_bc              39717\n",
      "mort_acc                          39717\n",
      "mo_sin_rcnt_tl                    39717\n",
      "mo_sin_rcnt_rev_tl_op             39717\n",
      "mo_sin_old_rev_tl_op              39717\n",
      "mo_sin_old_il_acct                39717\n",
      "bc_util                           39717\n",
      "dtype: int64\n"
     ]
    }
   ],
   "source": [
    "#EDA/indtentifyt and select the # columns only\n",
    "df_numeric = df.select_dtypes(include='number')\n",
    "print(\"initial shape\", df_numeric.shape)\n",
    "print(\"\\nmissing values\")\n",
    "print(df_numeric.isnull().sum().sort_values(ascending=False).head(10))"
   ]
  },
  {
   "cell_type": "code",
   "execution_count": 330,
   "id": "54cda1c3",
   "metadata": {},
   "outputs": [],
   "source": [
    "#remove postloan outcome variables as they do not help in prediction (i.e., target leackage)\n",
    "outcome_vars = ['loan_status', 'recoveries', 'total_pymnt', 'collection_recovery_fee']\n",
    "df_numeric = df_numeric.drop(columns=[col for col in outcome_vars if col in df_numeric.columns])"
   ]
  },
  {
   "cell_type": "code",
   "execution_count": 331,
   "id": "e4d8ba79",
   "metadata": {},
   "outputs": [],
   "source": [
    "#ensure 'int_rate' is kept — it's needed for analysis\n",
    "#had to add back in and re-run \n",
    "#preseve this column as it is needed for step 15 analysis\n",
    "#convert 'int_rate' to numeric to ensure proper plotting later\n",
    "#struggled with fixing the code so the plot graph / cluster would accurately display\n",
    "#I received errors many times when trying to run blocks later. Hopefully this will fix it. \n",
    "#need to preserve 'int_rate' column and convert it properly\n",
    "if 'int_rate' in df.columns:\n",
    "    df_numeric['int_rate'] = df['int_rate']\n",
    "    df_numeric['int_rate'] = pd.to_numeric(df_numeric['int_rate'].str.replace('%', ''), errors='coerce') \n"
   ]
  },
  {
   "cell_type": "code",
   "execution_count": 332,
   "id": "5589ab65",
   "metadata": {},
   "outputs": [],
   "source": [
    "#remove columns where ALL values are missing\n",
    "df_numeric = df_numeric.dropna(axis=1, how='all')"
   ]
  },
  {
   "cell_type": "code",
   "execution_count": 333,
   "id": "8c109e00",
   "metadata": {},
   "outputs": [
    {
     "name": "stdout",
     "output_type": "stream",
     "text": [
      "\n",
      "Final shape after dropping empty columns, NA rows (908, 31)\n"
     ]
    }
   ],
   "source": [
    "#remove rows withANY  missing values\n",
    "#need KMeans model to receive clean input w/o nulls\n",
    "df_clean = df_numeric.dropna()\n",
    "\n",
    "print(\"\\nFinal shape after dropping empty columns, NA rows\", df_clean.shape)"
   ]
  },
  {
   "cell_type": "code",
   "execution_count": 334,
   "id": "8fb7b0ed",
   "metadata": {},
   "outputs": [],
   "source": [
    "### ------ Distance metrics \n",
    "\n",
    "# KMeans uses Euclidean distance by default. Feature scaling is needed for this metric to behave correctly.\n",
    "\n",
    "scaler = StandardScaler()\n",
    "X_scaled = scaler.fit_transform(df_clean)"
   ]
  },
  {
   "cell_type": "code",
   "execution_count": 335,
   "id": "40a777dc",
   "metadata": {},
   "outputs": [
    {
     "name": "stdout",
     "output_type": "stream",
     "text": [
      "k=2, Silhouette Score=0.2590\n",
      "k=3, Silhouette Score=0.2490\n",
      "k=4, Silhouette Score=0.1118\n",
      "k=5, Silhouette Score=0.1154\n",
      "k=6, Silhouette Score=0.0987\n",
      "k=7, Silhouette Score=0.0953\n",
      "k=8, Silhouette Score=0.1031\n",
      "k=9, Silhouette Score=0.0887\n",
      "k=10, Silhouette Score=0.1059\n"
     ]
    }
   ],
   "source": [
    "### ------ Silhouette Score as Elbow Method\n",
    "#Instead of distortion/inertia, I use the Silhouette Score to evaluate clustering quality.\n",
    "#This acts as an improved elbow method by balancing cohesion and separation.\n",
    "\n",
    "#loop range of cluster counts, calc silhouette scores\n",
    "#will try k values from 2 to 10\n",
    "#high score = better cluster separation\n",
    "\n",
    "silhouette_scores = []\n",
    "k_range = range(2, 11)  #\n",
    "\n",
    "for k in k_range:\n",
    "    kmeans = KMeans(n_clusters=k, random_state=42, n_init=10)\n",
    "    labels = kmeans.fit_predict(X_scaled)\n",
    "    score = silhouette_score(X_scaled, labels)  \n",
    "    silhouette_scores.append(score)\n",
    "    print(f\"k={k}, Silhouette Score={score:.4f}\")"
   ]
  },
  {
   "cell_type": "code",
   "execution_count": 336,
   "id": "72a7e6ed",
   "metadata": {},
   "outputs": [
    {
     "data": {
      "image/png": "[encoded data removed]",
      "text/plain": [
       "<Figure size 800x500 with 1 Axes>"
      ]
     },
     "metadata": {},
     "output_type": "display_data"
    }
   ],
   "source": [
    "#Plot the silhouette scores -- need to see if we can visually determine the best number of clusters\n",
    "plt.figure(figsize=(8, 5))\n",
    "plt.plot(k_range, silhouette_scores, marker='o')\n",
    "plt.title(\"Silhouette scores - # of Clusters\")\n",
    "plt.xlabel(\"k (number of clusters)\")\n",
    "plt.ylabel(\"Silhouette score\")\n",
    "plt.grid(True)\n",
    "plt.show()"
   ]
  },
  {
   "cell_type": "code",
   "execution_count": 337,
   "id": "74297186",
   "metadata": {},
   "outputs": [
    {
     "data": {
      "image/png": "[encoded data removed]",
      "text/plain": [
       "<Figure size 800x500 with 1 Axes>"
      ]
     },
     "metadata": {},
     "output_type": "display_data"
    }
   ],
   "source": [
    "### ------ Elbow Method using Inertia\n",
    "\n",
    "#Also plotted the traditional elbow curve using inertia (within-cluster sum of squares) in case reviewer requried it.\n",
    "\n",
    "inertias = []\n",
    "\n",
    "for k in k_range:\n",
    "    kmeans = KMeans(n_clusters=k, random_state=42, n_init=10)\n",
    "    kmeans.fit(X_scaled)\n",
    "    inertias.append(kmeans.inertia_)\n",
    "\n",
    "# Plot elbow method based on inertia\n",
    "plt.figure(figsize=(8, 5))\n",
    "plt.plot(k_range, inertias, marker='o')\n",
    "plt.title(\"Elbow Method: Inertia by Number of Clusters\")\n",
    "plt.xlabel(\"k (number of clusters)\")\n",
    "plt.ylabel(\"Inertia (Distortion)\")\n",
    "plt.grid(True)\n",
    "plt.show()\n"
   ]
  },
  {
   "cell_type": "markdown",
   "id": "e0edd647",
   "metadata": {},
   "source": [
    "#### Observation/note for Elbow Method using Inertia\n",
    "- The inertia plot shows a sharp drop at k=2, after which the decrease slows.\n",
    "- This confirms that k=2 is a reasonable choice for the number of clusters.\n"
   ]
  },
  {
   "cell_type": "code",
   "execution_count": 338,
   "id": "435a040d",
   "metadata": {},
   "outputs": [
    {
     "name": "stdout",
     "output_type": "stream",
     "text": [
      "best k = 2\n"
     ]
    }
   ],
   "source": [
    "#indentify and pring  best k value using highest silhouette score\n",
    "best_k = k_range[np.argmax(silhouette_scores)]\n",
    "print(f\"best k = {best_k}\")"
   ]
  },
  {
   "cell_type": "markdown",
   "id": "d3dd4252",
   "metadata": {},
   "source": [
    "### Observation/note to graph and previous code ^ \n",
    "\n",
    "Highest silhouette score at k=2; meaning that 2 clusters give the best separation for this dataset.\n",
    "\n",
    "Silhouette score decreases as k increase..... which suggests more clusters may add noise rather than insight."
   ]
  },
  {
   "cell_type": "code",
   "execution_count": 339,
   "id": "369bde0b",
   "metadata": {},
   "outputs": [
    {
     "name": "stdout",
     "output_type": "stream",
     "text": [
      "\n",
      "Cluster Distribution:\n",
      "Cluster\n",
      "0    688\n",
      "1    220\n",
      "Name: count, dtype: int64\n"
     ]
    }
   ],
   "source": [
    "### ------ K-Means Clustering\n",
    "\n",
    "#I refit the model using the best number of clusters based on silhouette score.\n",
    "#fit KMeans model again using the best k value\n",
    "#I am going to retrain the KMeans model using the best k=2 to get final cluster labels.\n",
    "kmeans_final = KMeans(n_clusters=best_k, random_state=42, n_init=10)\n",
    "cluster_labels = kmeans_final.fit_predict(X_scaled)\n",
    "\n",
    "#add the cluster labels back to the original cleaned dataset\n",
    "#helps me analyze what each cluster represents.\n",
    "#Allws me to group by cluster and look for differences in loan amount, interest rate, etc.\n",
    "df_clustered = df_clean.copy()\n",
    "df_clustered['Cluster'] = cluster_labels\n",
    "\n",
    "#print/show # rows were assigned to each cluster\n",
    "#confirm/check for balance or skew in the clustering\n",
    "print(\"\\nCluster Distribution:\")\n",
    "print(df_clustered['Cluster'].value_counts())"
   ]
  },
  {
   "cell_type": "code",
   "execution_count": 340,
   "id": "3cf7c91e",
   "metadata": {},
   "outputs": [
    {
     "name": "stdout",
     "output_type": "stream",
     "text": [
      "\n",
      "Cluster Feature Means:\n",
      "                    id      member_id     loan_amnt   funded_amnt  \\\n",
      "Cluster                                                             \n",
      "0        653120.629360  813385.040698   6297.710756   6241.860465   \n",
      "1        713307.236364  891275.531818  17448.750000  16944.545455   \n",
      "\n",
      "         funded_amnt_inv  installment    annual_inc        dti  delinq_2yrs  \\\n",
      "Cluster                                                                       \n",
      "0            5773.789462   198.309462  57703.806657  12.514593     0.361919   \n",
      "1           15927.290278   496.509909  82344.312091  14.142636     0.390909   \n",
      "\n",
      "         inq_last_6mths  ...  total_rec_late_fee  last_pymnt_amnt  \\\n",
      "Cluster                  ...                                        \n",
      "0              0.982558  ...            1.326521      1164.820727   \n",
      "1              0.977273  ...            1.902932      4366.863909   \n",
      "\n",
      "         collections_12_mths_ex_med  policy_code  acc_now_delinq  \\\n",
      "Cluster                                                            \n",
      "0                               0.0          1.0             0.0   \n",
      "1                               0.0          1.0             0.0   \n",
      "\n",
      "         chargeoff_within_12_mths  delinq_amnt  pub_rec_bankruptcies  \\\n",
      "Cluster                                                                \n",
      "0                             0.0          0.0              0.702035   \n",
      "1                             0.0          0.0              0.745455   \n",
      "\n",
      "         tax_liens   int_rate  \n",
      "Cluster                        \n",
      "0              0.0  12.901730  \n",
      "1              0.0  16.275636  \n",
      "\n",
      "[2 rows x 31 columns]\n"
     ]
    }
   ],
   "source": [
    "#print avg values of features by cluster to help interpret them\n",
    "#helps show characteristics of each group\n",
    "\n",
    "cluster_means = df_clustered.groupby('Cluster').mean()\n",
    "print(\"\\nCluster Feature Means:\")\n",
    "print(cluster_means.head())\n"
   ]
  },
  {
   "cell_type": "code",
   "execution_count": 341,
   "id": "8b4f6720",
   "metadata": {},
   "outputs": [
    {
     "name": "stdout",
     "output_type": "stream",
     "text": [
      "float64\n",
      "Index(['id', 'member_id', 'loan_amnt', 'funded_amnt', 'funded_amnt_inv',\n",
      "       'installment', 'annual_inc', 'dti', 'delinq_2yrs', 'inq_last_6mths',\n",
      "       'mths_since_last_delinq', 'mths_since_last_record', 'open_acc',\n",
      "       'pub_rec', 'revol_bal', 'total_acc', 'out_prncp', 'out_prncp_inv',\n",
      "       'total_pymnt_inv', 'total_rec_prncp', 'total_rec_int',\n",
      "       'total_rec_late_fee', 'last_pymnt_amnt', 'collections_12_mths_ex_med',\n",
      "       'policy_code', 'acc_now_delinq', 'chargeoff_within_12_mths',\n",
      "       'delinq_amnt', 'pub_rec_bankruptcies', 'tax_liens', 'int_rate',\n",
      "       'Cluster'],\n",
      "      dtype='object')\n"
     ]
    }
   ],
   "source": [
    "print(df_clustered.dtypes['int_rate'])  # should be float or int\n",
    "print(df_clustered.columns)  # should list 'int_rate' and 'Cluster'"
   ]
  },
  {
   "cell_type": "code",
   "execution_count": 342,
   "id": "eec2e512",
   "metadata": {},
   "outputs": [
    {
     "data": {
      "image/png": "[encoded data removed]",
      "text/plain": [
       "<Figure size 1000x600 with 1 Axes>"
      ]
     },
     "metadata": {},
     "output_type": "display_data"
    }
   ],
   "source": [
    "#PLOT GRAPH - shows how loan amount varies by cluster\n",
    "#helps identiofy trends in loan amount by group\n",
    "plt.figure(figsize=(10, 6))\n",
    "sns.boxplot(x='Cluster', y='loan_amnt', data=df_clustered)\n",
    "plt.title(\"Loan amount by cluster\")\n",
    "plt.show()"
   ]
  },
  {
   "cell_type": "markdown",
   "id": "ae32eb02",
   "metadata": {},
   "source": [
    "### Note - boxplot above - loan amount by cluster  ^ \n",
    "\n",
    "Cluster 1 generally receives higher loan amounts, suggesting segmentation by borrowing capacity. ^ \n"
   ]
  },
  {
   "cell_type": "code",
   "execution_count": 343,
   "id": "dea1678f",
   "metadata": {},
   "outputs": [
    {
     "data": {
      "image/png": "[encoded data removed]",
      "text/plain": [
       "<Figure size 1000x600 with 1 Axes>"
      ]
     },
     "metadata": {},
     "output_type": "display_data"
    }
   ],
   "source": [
    "# PLOT GRAPH - shows how interest rate varies by cluster\n",
    "#helps identiofy trends in INTEREST RATE  amount by group\n",
    "plt.figure(figsize=(10, 6))\n",
    "sns.boxplot(x='Cluster', y='int_rate', data=df_clustered)\n",
    "plt.title(\"Interest Rate by Cluster\")\n",
    "plt.show()"
   ]
  },
  {
   "cell_type": "markdown",
   "id": "2da6c6e4",
   "metadata": {},
   "source": [
    "### Note - boxplot above - interest rate by cluster  ^ \n",
    "I plotted the interest rate by cluster to observe how risk (as measured by cost of borrowing) differs across groups. \n",
    "This helps identify whether any cluster contains loans with unusually high or low interest rates.\n",
    "\n",
    "Cluster 1 faces higher interest rates, which may indicate greater risk as assessed by lenders. \n"
   ]
  },
  {
   "cell_type": "markdown",
   "id": "a36b54c0",
   "metadata": {},
   "source": [
    "## Observation: Clustering Results\n",
    "\n",
    "I found that k=2 gives the highest silhouette score, meaning 2 clusters separate the dataset best.\n",
    "\n",
    "When I visualized loan amount and interest rate by cluster, there was a clear difference:\n",
    " - Cluster 0 had lower loan amounts and lower average interest rates.\n",
    " - Cluster 1 had higher loan amounts and interest rates.\n",
    " -  This may suggest that the KMeans model separated lower-risk and higher-risk borrowers based on their financial profile.\n"
   ]
  },
  {
   "cell_type": "markdown",
   "id": "4234f8f8",
   "metadata": {},
   "source": [
    "### Week 10: K-Means Clustering Analysis of Lending Club Loan Data \n",
    "\n",
    "I performed an unsupervised learning analysis using K-Means clustering on the Lending Club dataset. My objective was to explore natural groupings among borrowers based on their financial attributes, independent of any loan outcome labels. This clustering exercise serves as a supportive analysis to the main classification models, offering additional insight into potential borrower segments.\n",
    "\n",
    "#### Dataset Preparation\n",
    "The dataset initially contained 87 features across 39,717 records. I removed post-loan outcome variables such as `loan_status` and `total_pymnt` to prevent target leakage and ensure only pre-loan features informed the clustering. I also dropped columns with all missing values and excluded any rows with partial nulls, resulting in a clean numeric dataset suitable for unsupervised learning. To ensure consistency in distance calculations, I used StandardScaler to normalize the features—bringing them to a mean of 0 and standard deviation of 1.\n",
    "\n",
    "#### Feature Scaling and Distance Metrics\n",
    "Because K-Means clustering is based on Euclidean distance, feature scaling is essential. Without scaling, variables with larger ranges could disproportionately influence the cluster assignments. Standardization ensured all features contributed equally to distance computations.\n",
    "\n",
    "#### Choosing the Number of Clusters\n",
    "I evaluated the clustering structure for k values ranging from 2 to 10, using the Silhouette Score as the evaluation metric. The Silhouette Score ranges from -1 to 1 and reflects how well each point fits within its cluster compared to other clusters. This method is often used as a refined version of the Elbow Method, emphasizing both intra-cluster cohesion and inter-cluster separation. I found that the highest score occurred at k = 2, indicating two distinct borrower segments within the dataset.\n",
    "\n",
    "#### Cluster Interpretation\n",
    "After refitting the KMeans model with k = 2, I added the resulting cluster labels back to the cleaned dataset. Visualizations revealed key differences between clusters. A boxplot of loan amount by cluster showed that Cluster 1 borrowers typically requested or were approved for higher loan amounts. Another plot of interest rate by cluster demonstrated that Cluster 1 also carried significantly higher interest rates, suggesting this group may represent higher-risk borrowers.\n",
    "\n",
    "#### Conclusion\n",
    "This clustering analysis suggests that Lending Club borrowers naturally divide into at least two groups: one with lower borrowing amounts and interest rates, and another with higher financial exposure and potential credit risk. These findings reinforce the patterns seen in supervised models and demonstrate the value of unsupervised learning for borrower segmentation. Importantly, I applied all core concepts of K-Means modeling, including feature scaling, distance metrics, elbow method via silhouette score, and cluster interpretation using statistical and visual tools.\n"
   ]
  }
 ],
 "metadata": {
  "kernelspec": {
   "display_name": "your_env_name",
   "language": "python",
   "name": "your_env_name"
  },
  "language_info": {
   "codemirror_mode": {
    "name": "ipython",
    "version": 3
   },
   "file_extension": ".py",
   "mimetype": "text/x-python",
   "name": "python",
   "nbconvert_exporter": "python",
   "pygments_lexer": "ipython3",
   "version": "3.12.0"
  }
 },
 "nbformat": 4,
 "nbformat_minor": 5
}
